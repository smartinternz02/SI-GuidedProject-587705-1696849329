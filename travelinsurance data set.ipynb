{
 "cells": [
  {
   "cell_type": "code",
   "execution_count": 47,
   "id": "3357f671",
   "metadata": {},
   "outputs": [],
   "source": [
    "import numpy as np # linear algebra\n",
    "import pandas as pd # data processing, CSV file I/O (e.g. pd.read_csv)\n",
    "import seaborn as sns\n",
    "import matplotlib.pyplot as plt\n"
   ]
  },
  {
   "cell_type": "code",
   "execution_count": 3,
   "id": "6d728953",
   "metadata": {},
   "outputs": [],
   "source": [
    "data = pd.read_csv(\"travelinsuranceprediction.csv\")"
   ]
  },
  {
   "cell_type": "code",
   "execution_count": 4,
   "id": "d3053170",
   "metadata": {},
   "outputs": [
    {
     "data": {
      "text/html": [
       "<div>\n",
       "<style scoped>\n",
       "    .dataframe tbody tr th:only-of-type {\n",
       "        vertical-align: middle;\n",
       "    }\n",
       "\n",
       "    .dataframe tbody tr th {\n",
       "        vertical-align: top;\n",
       "    }\n",
       "\n",
       "    .dataframe thead th {\n",
       "        text-align: right;\n",
       "    }\n",
       "</style>\n",
       "<table border=\"1\" class=\"dataframe\">\n",
       "  <thead>\n",
       "    <tr style=\"text-align: right;\">\n",
       "      <th></th>\n",
       "      <th>Unnamed: 0</th>\n",
       "      <th>Age</th>\n",
       "      <th>Employment Type</th>\n",
       "      <th>GraduateOrNot</th>\n",
       "      <th>AnnualIncome</th>\n",
       "      <th>FamilyMembers</th>\n",
       "      <th>ChronicDiseases</th>\n",
       "      <th>FrequentFlyer</th>\n",
       "      <th>EverTravelledAbroad</th>\n",
       "      <th>TravelInsurance</th>\n",
       "    </tr>\n",
       "  </thead>\n",
       "  <tbody>\n",
       "    <tr>\n",
       "      <th>0</th>\n",
       "      <td>0</td>\n",
       "      <td>31</td>\n",
       "      <td>Government Sector</td>\n",
       "      <td>Yes</td>\n",
       "      <td>400000</td>\n",
       "      <td>6</td>\n",
       "      <td>1</td>\n",
       "      <td>No</td>\n",
       "      <td>No</td>\n",
       "      <td>0</td>\n",
       "    </tr>\n",
       "    <tr>\n",
       "      <th>1</th>\n",
       "      <td>1</td>\n",
       "      <td>31</td>\n",
       "      <td>Private Sector/Self Employed</td>\n",
       "      <td>Yes</td>\n",
       "      <td>1250000</td>\n",
       "      <td>7</td>\n",
       "      <td>0</td>\n",
       "      <td>No</td>\n",
       "      <td>No</td>\n",
       "      <td>0</td>\n",
       "    </tr>\n",
       "    <tr>\n",
       "      <th>2</th>\n",
       "      <td>2</td>\n",
       "      <td>34</td>\n",
       "      <td>Private Sector/Self Employed</td>\n",
       "      <td>Yes</td>\n",
       "      <td>500000</td>\n",
       "      <td>4</td>\n",
       "      <td>1</td>\n",
       "      <td>No</td>\n",
       "      <td>No</td>\n",
       "      <td>1</td>\n",
       "    </tr>\n",
       "    <tr>\n",
       "      <th>3</th>\n",
       "      <td>3</td>\n",
       "      <td>28</td>\n",
       "      <td>Private Sector/Self Employed</td>\n",
       "      <td>Yes</td>\n",
       "      <td>700000</td>\n",
       "      <td>3</td>\n",
       "      <td>1</td>\n",
       "      <td>No</td>\n",
       "      <td>No</td>\n",
       "      <td>0</td>\n",
       "    </tr>\n",
       "    <tr>\n",
       "      <th>4</th>\n",
       "      <td>4</td>\n",
       "      <td>28</td>\n",
       "      <td>Private Sector/Self Employed</td>\n",
       "      <td>Yes</td>\n",
       "      <td>700000</td>\n",
       "      <td>8</td>\n",
       "      <td>1</td>\n",
       "      <td>Yes</td>\n",
       "      <td>No</td>\n",
       "      <td>0</td>\n",
       "    </tr>\n",
       "  </tbody>\n",
       "</table>\n",
       "</div>"
      ],
      "text/plain": [
       "   Unnamed: 0  Age               Employment Type GraduateOrNot  AnnualIncome  \\\n",
       "0           0   31             Government Sector           Yes        400000   \n",
       "1           1   31  Private Sector/Self Employed           Yes       1250000   \n",
       "2           2   34  Private Sector/Self Employed           Yes        500000   \n",
       "3           3   28  Private Sector/Self Employed           Yes        700000   \n",
       "4           4   28  Private Sector/Self Employed           Yes        700000   \n",
       "\n",
       "   FamilyMembers  ChronicDiseases FrequentFlyer EverTravelledAbroad  \\\n",
       "0              6                1            No                  No   \n",
       "1              7                0            No                  No   \n",
       "2              4                1            No                  No   \n",
       "3              3                1            No                  No   \n",
       "4              8                1           Yes                  No   \n",
       "\n",
       "   TravelInsurance  \n",
       "0                0  \n",
       "1                0  \n",
       "2                1  \n",
       "3                0  \n",
       "4                0  "
      ]
     },
     "execution_count": 4,
     "metadata": {},
     "output_type": "execute_result"
    }
   ],
   "source": [
    "data.head()"
   ]
  },
  {
   "cell_type": "code",
   "execution_count": 5,
   "id": "15655d6e",
   "metadata": {},
   "outputs": [
    {
     "data": {
      "text/html": [
       "<div>\n",
       "<style scoped>\n",
       "    .dataframe tbody tr th:only-of-type {\n",
       "        vertical-align: middle;\n",
       "    }\n",
       "\n",
       "    .dataframe tbody tr th {\n",
       "        vertical-align: top;\n",
       "    }\n",
       "\n",
       "    .dataframe thead th {\n",
       "        text-align: right;\n",
       "    }\n",
       "</style>\n",
       "<table border=\"1\" class=\"dataframe\">\n",
       "  <thead>\n",
       "    <tr style=\"text-align: right;\">\n",
       "      <th></th>\n",
       "      <th>Unnamed: 0</th>\n",
       "      <th>Age</th>\n",
       "      <th>Employment Type</th>\n",
       "      <th>GraduateOrNot</th>\n",
       "      <th>AnnualIncome</th>\n",
       "      <th>FamilyMembers</th>\n",
       "      <th>ChronicDiseases</th>\n",
       "      <th>FrequentFlyer</th>\n",
       "      <th>EverTravelledAbroad</th>\n",
       "      <th>TravelInsurance</th>\n",
       "    </tr>\n",
       "  </thead>\n",
       "  <tbody>\n",
       "    <tr>\n",
       "      <th>1982</th>\n",
       "      <td>1982</td>\n",
       "      <td>33</td>\n",
       "      <td>Private Sector/Self Employed</td>\n",
       "      <td>Yes</td>\n",
       "      <td>1500000</td>\n",
       "      <td>4</td>\n",
       "      <td>0</td>\n",
       "      <td>Yes</td>\n",
       "      <td>Yes</td>\n",
       "      <td>1</td>\n",
       "    </tr>\n",
       "    <tr>\n",
       "      <th>1983</th>\n",
       "      <td>1983</td>\n",
       "      <td>28</td>\n",
       "      <td>Private Sector/Self Employed</td>\n",
       "      <td>Yes</td>\n",
       "      <td>1750000</td>\n",
       "      <td>5</td>\n",
       "      <td>1</td>\n",
       "      <td>No</td>\n",
       "      <td>Yes</td>\n",
       "      <td>0</td>\n",
       "    </tr>\n",
       "    <tr>\n",
       "      <th>1984</th>\n",
       "      <td>1984</td>\n",
       "      <td>28</td>\n",
       "      <td>Private Sector/Self Employed</td>\n",
       "      <td>Yes</td>\n",
       "      <td>1150000</td>\n",
       "      <td>6</td>\n",
       "      <td>1</td>\n",
       "      <td>No</td>\n",
       "      <td>No</td>\n",
       "      <td>0</td>\n",
       "    </tr>\n",
       "    <tr>\n",
       "      <th>1985</th>\n",
       "      <td>1985</td>\n",
       "      <td>34</td>\n",
       "      <td>Private Sector/Self Employed</td>\n",
       "      <td>Yes</td>\n",
       "      <td>1000000</td>\n",
       "      <td>6</td>\n",
       "      <td>0</td>\n",
       "      <td>Yes</td>\n",
       "      <td>Yes</td>\n",
       "      <td>1</td>\n",
       "    </tr>\n",
       "    <tr>\n",
       "      <th>1986</th>\n",
       "      <td>1986</td>\n",
       "      <td>34</td>\n",
       "      <td>Private Sector/Self Employed</td>\n",
       "      <td>Yes</td>\n",
       "      <td>500000</td>\n",
       "      <td>4</td>\n",
       "      <td>0</td>\n",
       "      <td>No</td>\n",
       "      <td>No</td>\n",
       "      <td>0</td>\n",
       "    </tr>\n",
       "  </tbody>\n",
       "</table>\n",
       "</div>"
      ],
      "text/plain": [
       "      Unnamed: 0  Age               Employment Type GraduateOrNot  \\\n",
       "1982        1982   33  Private Sector/Self Employed           Yes   \n",
       "1983        1983   28  Private Sector/Self Employed           Yes   \n",
       "1984        1984   28  Private Sector/Self Employed           Yes   \n",
       "1985        1985   34  Private Sector/Self Employed           Yes   \n",
       "1986        1986   34  Private Sector/Self Employed           Yes   \n",
       "\n",
       "      AnnualIncome  FamilyMembers  ChronicDiseases FrequentFlyer  \\\n",
       "1982       1500000              4                0           Yes   \n",
       "1983       1750000              5                1            No   \n",
       "1984       1150000              6                1            No   \n",
       "1985       1000000              6                0           Yes   \n",
       "1986        500000              4                0            No   \n",
       "\n",
       "     EverTravelledAbroad  TravelInsurance  \n",
       "1982                 Yes                1  \n",
       "1983                 Yes                0  \n",
       "1984                  No                0  \n",
       "1985                 Yes                1  \n",
       "1986                  No                0  "
      ]
     },
     "execution_count": 5,
     "metadata": {},
     "output_type": "execute_result"
    }
   ],
   "source": [
    "data.tail()"
   ]
  },
  {
   "cell_type": "code",
   "execution_count": 6,
   "id": "8fb0f218",
   "metadata": {},
   "outputs": [
    {
     "data": {
      "text/html": [
       "<div>\n",
       "<style scoped>\n",
       "    .dataframe tbody tr th:only-of-type {\n",
       "        vertical-align: middle;\n",
       "    }\n",
       "\n",
       "    .dataframe tbody tr th {\n",
       "        vertical-align: top;\n",
       "    }\n",
       "\n",
       "    .dataframe thead th {\n",
       "        text-align: right;\n",
       "    }\n",
       "</style>\n",
       "<table border=\"1\" class=\"dataframe\">\n",
       "  <thead>\n",
       "    <tr style=\"text-align: right;\">\n",
       "      <th></th>\n",
       "      <th>Unnamed: 0</th>\n",
       "      <th>Age</th>\n",
       "      <th>AnnualIncome</th>\n",
       "      <th>FamilyMembers</th>\n",
       "      <th>ChronicDiseases</th>\n",
       "      <th>TravelInsurance</th>\n",
       "    </tr>\n",
       "  </thead>\n",
       "  <tbody>\n",
       "    <tr>\n",
       "      <th>count</th>\n",
       "      <td>1987.000000</td>\n",
       "      <td>1987.000000</td>\n",
       "      <td>1.987000e+03</td>\n",
       "      <td>1987.000000</td>\n",
       "      <td>1987.000000</td>\n",
       "      <td>1987.000000</td>\n",
       "    </tr>\n",
       "    <tr>\n",
       "      <th>mean</th>\n",
       "      <td>993.000000</td>\n",
       "      <td>29.650226</td>\n",
       "      <td>9.327630e+05</td>\n",
       "      <td>4.752894</td>\n",
       "      <td>0.277806</td>\n",
       "      <td>0.357323</td>\n",
       "    </tr>\n",
       "    <tr>\n",
       "      <th>std</th>\n",
       "      <td>573.741812</td>\n",
       "      <td>2.913308</td>\n",
       "      <td>3.768557e+05</td>\n",
       "      <td>1.609650</td>\n",
       "      <td>0.448030</td>\n",
       "      <td>0.479332</td>\n",
       "    </tr>\n",
       "    <tr>\n",
       "      <th>min</th>\n",
       "      <td>0.000000</td>\n",
       "      <td>25.000000</td>\n",
       "      <td>3.000000e+05</td>\n",
       "      <td>2.000000</td>\n",
       "      <td>0.000000</td>\n",
       "      <td>0.000000</td>\n",
       "    </tr>\n",
       "    <tr>\n",
       "      <th>25%</th>\n",
       "      <td>496.500000</td>\n",
       "      <td>28.000000</td>\n",
       "      <td>6.000000e+05</td>\n",
       "      <td>4.000000</td>\n",
       "      <td>0.000000</td>\n",
       "      <td>0.000000</td>\n",
       "    </tr>\n",
       "    <tr>\n",
       "      <th>50%</th>\n",
       "      <td>993.000000</td>\n",
       "      <td>29.000000</td>\n",
       "      <td>9.000000e+05</td>\n",
       "      <td>5.000000</td>\n",
       "      <td>0.000000</td>\n",
       "      <td>0.000000</td>\n",
       "    </tr>\n",
       "    <tr>\n",
       "      <th>75%</th>\n",
       "      <td>1489.500000</td>\n",
       "      <td>32.000000</td>\n",
       "      <td>1.250000e+06</td>\n",
       "      <td>6.000000</td>\n",
       "      <td>1.000000</td>\n",
       "      <td>1.000000</td>\n",
       "    </tr>\n",
       "    <tr>\n",
       "      <th>max</th>\n",
       "      <td>1986.000000</td>\n",
       "      <td>35.000000</td>\n",
       "      <td>1.800000e+06</td>\n",
       "      <td>9.000000</td>\n",
       "      <td>1.000000</td>\n",
       "      <td>1.000000</td>\n",
       "    </tr>\n",
       "  </tbody>\n",
       "</table>\n",
       "</div>"
      ],
      "text/plain": [
       "        Unnamed: 0          Age  AnnualIncome  FamilyMembers  ChronicDiseases  \\\n",
       "count  1987.000000  1987.000000  1.987000e+03    1987.000000      1987.000000   \n",
       "mean    993.000000    29.650226  9.327630e+05       4.752894         0.277806   \n",
       "std     573.741812     2.913308  3.768557e+05       1.609650         0.448030   \n",
       "min       0.000000    25.000000  3.000000e+05       2.000000         0.000000   \n",
       "25%     496.500000    28.000000  6.000000e+05       4.000000         0.000000   \n",
       "50%     993.000000    29.000000  9.000000e+05       5.000000         0.000000   \n",
       "75%    1489.500000    32.000000  1.250000e+06       6.000000         1.000000   \n",
       "max    1986.000000    35.000000  1.800000e+06       9.000000         1.000000   \n",
       "\n",
       "       TravelInsurance  \n",
       "count      1987.000000  \n",
       "mean          0.357323  \n",
       "std           0.479332  \n",
       "min           0.000000  \n",
       "25%           0.000000  \n",
       "50%           0.000000  \n",
       "75%           1.000000  \n",
       "max           1.000000  "
      ]
     },
     "execution_count": 6,
     "metadata": {},
     "output_type": "execute_result"
    }
   ],
   "source": [
    "data.describe()"
   ]
  },
  {
   "cell_type": "code",
   "execution_count": 7,
   "id": "952cbcaf",
   "metadata": {},
   "outputs": [
    {
     "name": "stderr",
     "output_type": "stream",
     "text": [
      "C:\\Users\\tauqe\\AppData\\Local\\Temp\\ipykernel_5328\\531903386.py:1: FutureWarning: Dropping of nuisance columns in DataFrame reductions (with 'numeric_only=None') is deprecated; in a future version this will raise TypeError.  Select only valid columns before calling the reduction.\n",
      "  data.mean()\n"
     ]
    },
    {
     "data": {
      "text/plain": [
       "Unnamed: 0            993.000000\n",
       "Age                    29.650226\n",
       "AnnualIncome       932762.959235\n",
       "FamilyMembers           4.752894\n",
       "ChronicDiseases         0.277806\n",
       "TravelInsurance         0.357323\n",
       "dtype: float64"
      ]
     },
     "execution_count": 7,
     "metadata": {},
     "output_type": "execute_result"
    }
   ],
   "source": [
    "data.mean()"
   ]
  },
  {
   "cell_type": "code",
   "execution_count": 8,
   "id": "c8cbc4dd",
   "metadata": {},
   "outputs": [
    {
     "data": {
      "text/html": [
       "<div>\n",
       "<style scoped>\n",
       "    .dataframe tbody tr th:only-of-type {\n",
       "        vertical-align: middle;\n",
       "    }\n",
       "\n",
       "    .dataframe tbody tr th {\n",
       "        vertical-align: top;\n",
       "    }\n",
       "\n",
       "    .dataframe thead th {\n",
       "        text-align: right;\n",
       "    }\n",
       "</style>\n",
       "<table border=\"1\" class=\"dataframe\">\n",
       "  <thead>\n",
       "    <tr style=\"text-align: right;\">\n",
       "      <th></th>\n",
       "      <th>Unnamed: 0</th>\n",
       "      <th>Age</th>\n",
       "      <th>Employment Type</th>\n",
       "      <th>GraduateOrNot</th>\n",
       "      <th>AnnualIncome</th>\n",
       "      <th>FamilyMembers</th>\n",
       "      <th>ChronicDiseases</th>\n",
       "      <th>FrequentFlyer</th>\n",
       "      <th>EverTravelledAbroad</th>\n",
       "      <th>TravelInsurance</th>\n",
       "    </tr>\n",
       "  </thead>\n",
       "  <tbody>\n",
       "    <tr>\n",
       "      <th>0</th>\n",
       "      <td>0</td>\n",
       "      <td>28.0</td>\n",
       "      <td>Private Sector/Self Employed</td>\n",
       "      <td>Yes</td>\n",
       "      <td>800000.0</td>\n",
       "      <td>4.0</td>\n",
       "      <td>0.0</td>\n",
       "      <td>No</td>\n",
       "      <td>No</td>\n",
       "      <td>0.0</td>\n",
       "    </tr>\n",
       "    <tr>\n",
       "      <th>1</th>\n",
       "      <td>1</td>\n",
       "      <td>NaN</td>\n",
       "      <td>NaN</td>\n",
       "      <td>NaN</td>\n",
       "      <td>NaN</td>\n",
       "      <td>NaN</td>\n",
       "      <td>NaN</td>\n",
       "      <td>NaN</td>\n",
       "      <td>NaN</td>\n",
       "      <td>NaN</td>\n",
       "    </tr>\n",
       "    <tr>\n",
       "      <th>2</th>\n",
       "      <td>2</td>\n",
       "      <td>NaN</td>\n",
       "      <td>NaN</td>\n",
       "      <td>NaN</td>\n",
       "      <td>NaN</td>\n",
       "      <td>NaN</td>\n",
       "      <td>NaN</td>\n",
       "      <td>NaN</td>\n",
       "      <td>NaN</td>\n",
       "      <td>NaN</td>\n",
       "    </tr>\n",
       "    <tr>\n",
       "      <th>3</th>\n",
       "      <td>3</td>\n",
       "      <td>NaN</td>\n",
       "      <td>NaN</td>\n",
       "      <td>NaN</td>\n",
       "      <td>NaN</td>\n",
       "      <td>NaN</td>\n",
       "      <td>NaN</td>\n",
       "      <td>NaN</td>\n",
       "      <td>NaN</td>\n",
       "      <td>NaN</td>\n",
       "    </tr>\n",
       "    <tr>\n",
       "      <th>4</th>\n",
       "      <td>4</td>\n",
       "      <td>NaN</td>\n",
       "      <td>NaN</td>\n",
       "      <td>NaN</td>\n",
       "      <td>NaN</td>\n",
       "      <td>NaN</td>\n",
       "      <td>NaN</td>\n",
       "      <td>NaN</td>\n",
       "      <td>NaN</td>\n",
       "      <td>NaN</td>\n",
       "    </tr>\n",
       "    <tr>\n",
       "      <th>...</th>\n",
       "      <td>...</td>\n",
       "      <td>...</td>\n",
       "      <td>...</td>\n",
       "      <td>...</td>\n",
       "      <td>...</td>\n",
       "      <td>...</td>\n",
       "      <td>...</td>\n",
       "      <td>...</td>\n",
       "      <td>...</td>\n",
       "      <td>...</td>\n",
       "    </tr>\n",
       "    <tr>\n",
       "      <th>1982</th>\n",
       "      <td>1982</td>\n",
       "      <td>NaN</td>\n",
       "      <td>NaN</td>\n",
       "      <td>NaN</td>\n",
       "      <td>NaN</td>\n",
       "      <td>NaN</td>\n",
       "      <td>NaN</td>\n",
       "      <td>NaN</td>\n",
       "      <td>NaN</td>\n",
       "      <td>NaN</td>\n",
       "    </tr>\n",
       "    <tr>\n",
       "      <th>1983</th>\n",
       "      <td>1983</td>\n",
       "      <td>NaN</td>\n",
       "      <td>NaN</td>\n",
       "      <td>NaN</td>\n",
       "      <td>NaN</td>\n",
       "      <td>NaN</td>\n",
       "      <td>NaN</td>\n",
       "      <td>NaN</td>\n",
       "      <td>NaN</td>\n",
       "      <td>NaN</td>\n",
       "    </tr>\n",
       "    <tr>\n",
       "      <th>1984</th>\n",
       "      <td>1984</td>\n",
       "      <td>NaN</td>\n",
       "      <td>NaN</td>\n",
       "      <td>NaN</td>\n",
       "      <td>NaN</td>\n",
       "      <td>NaN</td>\n",
       "      <td>NaN</td>\n",
       "      <td>NaN</td>\n",
       "      <td>NaN</td>\n",
       "      <td>NaN</td>\n",
       "    </tr>\n",
       "    <tr>\n",
       "      <th>1985</th>\n",
       "      <td>1985</td>\n",
       "      <td>NaN</td>\n",
       "      <td>NaN</td>\n",
       "      <td>NaN</td>\n",
       "      <td>NaN</td>\n",
       "      <td>NaN</td>\n",
       "      <td>NaN</td>\n",
       "      <td>NaN</td>\n",
       "      <td>NaN</td>\n",
       "      <td>NaN</td>\n",
       "    </tr>\n",
       "    <tr>\n",
       "      <th>1986</th>\n",
       "      <td>1986</td>\n",
       "      <td>NaN</td>\n",
       "      <td>NaN</td>\n",
       "      <td>NaN</td>\n",
       "      <td>NaN</td>\n",
       "      <td>NaN</td>\n",
       "      <td>NaN</td>\n",
       "      <td>NaN</td>\n",
       "      <td>NaN</td>\n",
       "      <td>NaN</td>\n",
       "    </tr>\n",
       "  </tbody>\n",
       "</table>\n",
       "<p>1987 rows × 10 columns</p>\n",
       "</div>"
      ],
      "text/plain": [
       "      Unnamed: 0   Age               Employment Type GraduateOrNot  \\\n",
       "0              0  28.0  Private Sector/Self Employed           Yes   \n",
       "1              1   NaN                           NaN           NaN   \n",
       "2              2   NaN                           NaN           NaN   \n",
       "3              3   NaN                           NaN           NaN   \n",
       "4              4   NaN                           NaN           NaN   \n",
       "...          ...   ...                           ...           ...   \n",
       "1982        1982   NaN                           NaN           NaN   \n",
       "1983        1983   NaN                           NaN           NaN   \n",
       "1984        1984   NaN                           NaN           NaN   \n",
       "1985        1985   NaN                           NaN           NaN   \n",
       "1986        1986   NaN                           NaN           NaN   \n",
       "\n",
       "      AnnualIncome  FamilyMembers  ChronicDiseases FrequentFlyer  \\\n",
       "0         800000.0            4.0              0.0            No   \n",
       "1              NaN            NaN              NaN           NaN   \n",
       "2              NaN            NaN              NaN           NaN   \n",
       "3              NaN            NaN              NaN           NaN   \n",
       "4              NaN            NaN              NaN           NaN   \n",
       "...            ...            ...              ...           ...   \n",
       "1982           NaN            NaN              NaN           NaN   \n",
       "1983           NaN            NaN              NaN           NaN   \n",
       "1984           NaN            NaN              NaN           NaN   \n",
       "1985           NaN            NaN              NaN           NaN   \n",
       "1986           NaN            NaN              NaN           NaN   \n",
       "\n",
       "     EverTravelledAbroad  TravelInsurance  \n",
       "0                     No              0.0  \n",
       "1                    NaN              NaN  \n",
       "2                    NaN              NaN  \n",
       "3                    NaN              NaN  \n",
       "4                    NaN              NaN  \n",
       "...                  ...              ...  \n",
       "1982                 NaN              NaN  \n",
       "1983                 NaN              NaN  \n",
       "1984                 NaN              NaN  \n",
       "1985                 NaN              NaN  \n",
       "1986                 NaN              NaN  \n",
       "\n",
       "[1987 rows x 10 columns]"
      ]
     },
     "execution_count": 8,
     "metadata": {},
     "output_type": "execute_result"
    }
   ],
   "source": [
    "data.mode()"
   ]
  },
  {
   "cell_type": "code",
   "execution_count": 9,
   "id": "3b759871",
   "metadata": {},
   "outputs": [
    {
     "name": "stderr",
     "output_type": "stream",
     "text": [
      "C:\\Users\\tauqe\\AppData\\Local\\Temp\\ipykernel_5328\\4184645713.py:1: FutureWarning: Dropping of nuisance columns in DataFrame reductions (with 'numeric_only=None') is deprecated; in a future version this will raise TypeError.  Select only valid columns before calling the reduction.\n",
      "  data.median()\n"
     ]
    },
    {
     "data": {
      "text/plain": [
       "Unnamed: 0            993.0\n",
       "Age                    29.0\n",
       "AnnualIncome       900000.0\n",
       "FamilyMembers           5.0\n",
       "ChronicDiseases         0.0\n",
       "TravelInsurance         0.0\n",
       "dtype: float64"
      ]
     },
     "execution_count": 9,
     "metadata": {},
     "output_type": "execute_result"
    }
   ],
   "source": [
    "data.median()"
   ]
  },
  {
   "cell_type": "code",
   "execution_count": 13,
   "id": "6da5eeca",
   "metadata": {},
   "outputs": [
    {
     "data": {
      "text/plain": [
       "<seaborn.axisgrid.FacetGrid at 0x1dce27e3bb0>"
      ]
     },
     "execution_count": 13,
     "metadata": {},
     "output_type": "execute_result"
    },
    {
     "data": {
      "image/png": "[encoded data removed]",
      "text/plain": [
       "<Figure size 500x500 with 1 Axes>"
      ]
     },
     "metadata": {},
     "output_type": "display_data"
    }
   ],
   "source": [
    "sns.displot(data['Age'])"
   ]
  },
  {
   "cell_type": "code",
   "execution_count": 25,
   "id": "42726d37",
   "metadata": {},
   "outputs": [
    {
     "ename": "ValueError",
     "evalue": "Could not interpret input 'Travelinsuranceprediction'",
     "output_type": "error",
     "traceback": [
      "\u001b[1;31m---------------------------------------------------------------------------\u001b[0m",
      "\u001b[1;31mValueError\u001b[0m                                Traceback (most recent call last)",
      "\u001b[1;32m~\\AppData\\Local\\Temp\\ipykernel_5328\\919322159.py\u001b[0m in \u001b[0;36m<module>\u001b[1;34m\u001b[0m\n\u001b[1;32m----> 1\u001b[1;33m \u001b[0mplot1\u001b[0m \u001b[1;33m=\u001b[0m \u001b[0msns\u001b[0m\u001b[1;33m.\u001b[0m\u001b[0mcountplot\u001b[0m\u001b[1;33m(\u001b[0m\u001b[0mx\u001b[0m\u001b[1;33m=\u001b[0m\u001b[1;34m'Travelinsuranceprediction'\u001b[0m\u001b[1;33m,\u001b[0m\u001b[0mdata\u001b[0m\u001b[1;33m=\u001b[0m\u001b[0mdata\u001b[0m\u001b[1;33m)\u001b[0m\u001b[1;33m\u001b[0m\u001b[1;33m\u001b[0m\u001b[0m\n\u001b[0m\u001b[0;32m      2\u001b[0m \u001b[0mplt\u001b[0m\u001b[1;33m.\u001b[0m\u001b[0mshow\u001b[0m\u001b[1;33m(\u001b[0m\u001b[1;33m)\u001b[0m\u001b[1;33m\u001b[0m\u001b[1;33m\u001b[0m\u001b[0m\n",
      "\u001b[1;32m~\\anaconda3\\lib\\site-packages\\seaborn\\_decorators.py\u001b[0m in \u001b[0;36minner_f\u001b[1;34m(*args, **kwargs)\u001b[0m\n\u001b[0;32m     44\u001b[0m             )\n\u001b[0;32m     45\u001b[0m         \u001b[0mkwargs\u001b[0m\u001b[1;33m.\u001b[0m\u001b[0mupdate\u001b[0m\u001b[1;33m(\u001b[0m\u001b[1;33m{\u001b[0m\u001b[0mk\u001b[0m\u001b[1;33m:\u001b[0m \u001b[0marg\u001b[0m \u001b[1;32mfor\u001b[0m \u001b[0mk\u001b[0m\u001b[1;33m,\u001b[0m \u001b[0marg\u001b[0m \u001b[1;32min\u001b[0m \u001b[0mzip\u001b[0m\u001b[1;33m(\u001b[0m\u001b[0msig\u001b[0m\u001b[1;33m.\u001b[0m\u001b[0mparameters\u001b[0m\u001b[1;33m,\u001b[0m \u001b[0margs\u001b[0m\u001b[1;33m)\u001b[0m\u001b[1;33m}\u001b[0m\u001b[1;33m)\u001b[0m\u001b[1;33m\u001b[0m\u001b[1;33m\u001b[0m\u001b[0m\n\u001b[1;32m---> 46\u001b[1;33m         \u001b[1;32mreturn\u001b[0m \u001b[0mf\u001b[0m\u001b[1;33m(\u001b[0m\u001b[1;33m**\u001b[0m\u001b[0mkwargs\u001b[0m\u001b[1;33m)\u001b[0m\u001b[1;33m\u001b[0m\u001b[1;33m\u001b[0m\u001b[0m\n\u001b[0m\u001b[0;32m     47\u001b[0m     \u001b[1;32mreturn\u001b[0m \u001b[0minner_f\u001b[0m\u001b[1;33m\u001b[0m\u001b[1;33m\u001b[0m\u001b[0m\n\u001b[0;32m     48\u001b[0m \u001b[1;33m\u001b[0m\u001b[0m\n",
      "\u001b[1;32m~\\anaconda3\\lib\\site-packages\\seaborn\\categorical.py\u001b[0m in \u001b[0;36mcountplot\u001b[1;34m(x, y, hue, data, order, hue_order, orient, color, palette, saturation, dodge, ax, **kwargs)\u001b[0m\n\u001b[0;32m   3596\u001b[0m         \u001b[1;32mraise\u001b[0m \u001b[0mValueError\u001b[0m\u001b[1;33m(\u001b[0m\u001b[1;34m\"Cannot pass values for both `x` and `y`\"\u001b[0m\u001b[1;33m)\u001b[0m\u001b[1;33m\u001b[0m\u001b[1;33m\u001b[0m\u001b[0m\n\u001b[0;32m   3597\u001b[0m \u001b[1;33m\u001b[0m\u001b[0m\n\u001b[1;32m-> 3598\u001b[1;33m     plotter = _CountPlotter(\n\u001b[0m\u001b[0;32m   3599\u001b[0m         \u001b[0mx\u001b[0m\u001b[1;33m,\u001b[0m \u001b[0my\u001b[0m\u001b[1;33m,\u001b[0m \u001b[0mhue\u001b[0m\u001b[1;33m,\u001b[0m \u001b[0mdata\u001b[0m\u001b[1;33m,\u001b[0m \u001b[0morder\u001b[0m\u001b[1;33m,\u001b[0m \u001b[0mhue_order\u001b[0m\u001b[1;33m,\u001b[0m\u001b[1;33m\u001b[0m\u001b[1;33m\u001b[0m\u001b[0m\n\u001b[0;32m   3600\u001b[0m         \u001b[0mestimator\u001b[0m\u001b[1;33m,\u001b[0m \u001b[0mci\u001b[0m\u001b[1;33m,\u001b[0m \u001b[0mn_boot\u001b[0m\u001b[1;33m,\u001b[0m \u001b[0munits\u001b[0m\u001b[1;33m,\u001b[0m \u001b[0mseed\u001b[0m\u001b[1;33m,\u001b[0m\u001b[1;33m\u001b[0m\u001b[1;33m\u001b[0m\u001b[0m\n",
      "\u001b[1;32m~\\anaconda3\\lib\\site-packages\\seaborn\\categorical.py\u001b[0m in \u001b[0;36m__init__\u001b[1;34m(self, x, y, hue, data, order, hue_order, estimator, ci, n_boot, units, seed, orient, color, palette, saturation, errcolor, errwidth, capsize, dodge)\u001b[0m\n\u001b[0;32m   1582\u001b[0m                  errwidth, capsize, dodge):\n\u001b[0;32m   1583\u001b[0m         \u001b[1;34m\"\"\"Initialize the plotter.\"\"\"\u001b[0m\u001b[1;33m\u001b[0m\u001b[1;33m\u001b[0m\u001b[0m\n\u001b[1;32m-> 1584\u001b[1;33m         self.establish_variables(x, y, hue, data, orient,\n\u001b[0m\u001b[0;32m   1585\u001b[0m                                  order, hue_order, units)\n\u001b[0;32m   1586\u001b[0m         \u001b[0mself\u001b[0m\u001b[1;33m.\u001b[0m\u001b[0mestablish_colors\u001b[0m\u001b[1;33m(\u001b[0m\u001b[0mcolor\u001b[0m\u001b[1;33m,\u001b[0m \u001b[0mpalette\u001b[0m\u001b[1;33m,\u001b[0m \u001b[0msaturation\u001b[0m\u001b[1;33m)\u001b[0m\u001b[1;33m\u001b[0m\u001b[1;33m\u001b[0m\u001b[0m\n",
      "\u001b[1;32m~\\anaconda3\\lib\\site-packages\\seaborn\\categorical.py\u001b[0m in \u001b[0;36mestablish_variables\u001b[1;34m(self, x, y, hue, data, orient, order, hue_order, units)\u001b[0m\n\u001b[0;32m    151\u001b[0m                 \u001b[1;32mif\u001b[0m \u001b[0misinstance\u001b[0m\u001b[1;33m(\u001b[0m\u001b[0mvar\u001b[0m\u001b[1;33m,\u001b[0m \u001b[0mstr\u001b[0m\u001b[1;33m)\u001b[0m\u001b[1;33m:\u001b[0m\u001b[1;33m\u001b[0m\u001b[1;33m\u001b[0m\u001b[0m\n\u001b[0;32m    152\u001b[0m                     \u001b[0merr\u001b[0m \u001b[1;33m=\u001b[0m \u001b[1;34m\"Could not interpret input '{}'\"\u001b[0m\u001b[1;33m.\u001b[0m\u001b[0mformat\u001b[0m\u001b[1;33m(\u001b[0m\u001b[0mvar\u001b[0m\u001b[1;33m)\u001b[0m\u001b[1;33m\u001b[0m\u001b[1;33m\u001b[0m\u001b[0m\n\u001b[1;32m--> 153\u001b[1;33m                     \u001b[1;32mraise\u001b[0m \u001b[0mValueError\u001b[0m\u001b[1;33m(\u001b[0m\u001b[0merr\u001b[0m\u001b[1;33m)\u001b[0m\u001b[1;33m\u001b[0m\u001b[1;33m\u001b[0m\u001b[0m\n\u001b[0m\u001b[0;32m    154\u001b[0m \u001b[1;33m\u001b[0m\u001b[0m\n\u001b[0;32m    155\u001b[0m             \u001b[1;31m# Figure out the plotting orientation\u001b[0m\u001b[1;33m\u001b[0m\u001b[1;33m\u001b[0m\u001b[0m\n",
      "\u001b[1;31mValueError\u001b[0m: Could not interpret input 'Travelinsuranceprediction'"
     ]
    }
   ],
   "source": [
    "plot1 = sns.countplot(x='Travelinsuranceprediction',data=data)\n",
    "plt.show()"
   ]
  },
  {
   "cell_type": "code",
   "execution_count": 26,
   "id": "94649686",
   "metadata": {},
   "outputs": [
    {
     "ename": "SyntaxError",
     "evalue": "positional argument follows keyword argument (3176241363.py, line 1)",
     "output_type": "error",
     "traceback": [
      "\u001b[1;36m  File \u001b[1;32m\"C:\\Users\\tauqe\\AppData\\Local\\Temp\\ipykernel_5328\\3176241363.py\"\u001b[1;36m, line \u001b[1;32m1\u001b[0m\n\u001b[1;33m    data.hist(figsize=20, 20),bins=30 , xlabelsize=20, ylabelsize=20\u001b[0m\n\u001b[1;37m                            ^\u001b[0m\n\u001b[1;31mSyntaxError\u001b[0m\u001b[1;31m:\u001b[0m positional argument follows keyword argument\n"
     ]
    }
   ],
   "source": [
    "data.hist(figsize=20, 20),bins=30 , xlabelsize=20, ylabelsize=20"
   ]
  },
  {
   "cell_type": "code",
   "execution_count": 31,
   "id": "0a747297",
   "metadata": {},
   "outputs": [
    {
     "ename": "NameError",
     "evalue": "name 'plot' is not defined",
     "output_type": "error",
     "traceback": [
      "\u001b[1;31m---------------------------------------------------------------------------\u001b[0m",
      "\u001b[1;31mNameError\u001b[0m                                 Traceback (most recent call last)",
      "\u001b[1;32m~\\AppData\\Local\\Temp\\ipykernel_5328\\506327142.py\u001b[0m in \u001b[0;36m<module>\u001b[1;34m\u001b[0m\n\u001b[0;32m      2\u001b[0m \u001b[1;33m\u001b[0m\u001b[0m\n\u001b[0;32m      3\u001b[0m \u001b[1;32mfor\u001b[0m \u001b[0mpatch\u001b[0m \u001b[1;32min\u001b[0m \u001b[0mplot1\u001b[0m\u001b[1;33m.\u001b[0m\u001b[0mpatches\u001b[0m \u001b[1;33m:\u001b[0m\u001b[1;33m\u001b[0m\u001b[1;33m\u001b[0m\u001b[0m\n\u001b[1;32m----> 4\u001b[1;33m     plot.annotate(text=patch.get_height(),\n\u001b[0m\u001b[0;32m      5\u001b[0m                 xy=(patch.get_x() + patch.get_width() / 2, \n\u001b[0;32m      6\u001b[0m                       patch.get_height()),\n",
      "\u001b[1;31mNameError\u001b[0m: name 'plot' is not defined"
     ]
    }
   ],
   "source": [
    "plot1 = sns.countplot(x='TravelInsurance',data=data)\n",
    "    \n",
    "for patch in plot1.patches :\n",
    "    plot.annotate(text=patch.get_height(),\n",
    "                xy=(patch.get_x() + patch.get_width() / 2, \n",
    "                      patch.get_height()),\n",
    "                verticalalignment='center',    \n",
    "                horizontalalignment='center',\n",
    "                xytext=(0, 15),\n",
    "                textcoords='offset points')\n",
    "\n",
    "plot.show()"
   ]
  },
  {
   "cell_type": "code",
   "execution_count": 34,
   "id": "533f983b",
   "metadata": {},
   "outputs": [
    {
     "name": "stdout",
     "output_type": "stream",
     "text": [
      "skewness of: AnnualIncome 0.07841699043593056\n",
      "--------------------------------------------------------------------------------------------------------------------------------------------------------------------------------------------------------\n",
      "skewness of: Age 0.23962475139295264\n",
      "--------------------------------------------------------------------------------------------------------------------------------------------------------------------------------------------------------\n",
      "Since the skewness score is between -0.5 to 0.5, the data is normally distributed (symmetric)\n"
     ]
    }
   ],
   "source": [
    "numerical_features = ['AnnualIncome', 'Age']\n",
    "for column in numerical_features : \n",
    "    print(f'skewness of: {column}',data[column].skew())\n",
    "    print('--' * 100)\n",
    "\n",
    "print('Since the skewness score is between -0.5 to 0.5, the data is normally distributed (symmetric)')"
   ]
  },
  {
   "cell_type": "code",
   "execution_count": 40,
   "id": "26ef30cb",
   "metadata": {},
   "outputs": [
    {
     "name": "stdout",
     "output_type": "stream",
     "text": [
      "count    1987.000000\n",
      "mean       29.650226\n",
      "std         2.913308\n",
      "min        25.000000\n",
      "25%        28.000000\n",
      "50%        29.000000\n",
      "75%        32.000000\n",
      "max        35.000000\n",
      "Name: Age, dtype: float64\n"
     ]
    },
    {
     "name": "stderr",
     "output_type": "stream",
     "text": [
      "C:\\Users\\tauqe\\anaconda3\\lib\\site-packages\\seaborn\\distributions.py:2619: FutureWarning: `distplot` is a deprecated function and will be removed in a future version. Please adapt your code to use either `displot` (a figure-level function with similar flexibility) or `histplot` (an axes-level function for histograms).\n",
      "  warnings.warn(msg, FutureWarning)\n"
     ]
    }
   ],
   "source": [
    "data = data.sort_values('Age').reset_index(drop=True)\n",
    "print(data['Age'].describe())\n",
    "plt.figure(figsize=(9, 8))\n",
    "sns.distplot(data['Age'], color='g', bins=100, hist_kws={'alpha': 0.4});"
   ]
  },
  {
   "cell_type": "code",
   "execution_count": 41,
   "id": "682742f1",
   "metadata": {},
   "outputs": [
    {
     "name": "stdout",
     "output_type": "stream",
     "text": [
      "Column Name:  Unnamed: 0\n",
      "1456 1926 1977 46 1645 1211 354 1490 1335 1870 1980 359 724 726 1083 1213 684 1334 40 946 1109 1479 551 1823 423 678 942 1027 1594 32 1654 460 1650 1592 298 1868 519 776 473 1149 1344 1048 346 1342 81 815 469 1819 1055 1633 1215 1905 1624 1639 1315 1051 1757 365 697 457 1664 1317 378 1197 1940 44 1169 1779 779 1191 1785 1619 1800 1253 940 1020 397 1589 1044 636 871 1798 1585 1759 1034 1028 1427 1572 820 629 141 1508 1830 5 1244 595 592 1013 591 899 85 1381 1383 133 1389 986 1399 1123 1719 319 313 966 965 195 1431 1430 198 169 1898 148 1280 1500 443 153 1494 1023 985 1962 1934 1821 1271 206 407 109 570 413 956 528 209 1457 183 184 427 1451 426 419 1856 1139 761 679 95 42 1491 28 103 928 143 929 560 682 1653 1788 829 1728 55 555 667 669 1640 1865 1691 1708 1704 1684 11 1180 1923 1200 839 710 1656 1207 1530 545 1245 1247 121 882 1536 1517 878 907 1442 1246 589 877 909 1888 1129 547 1511 864 1555 173 1107 1961 540 179 181 1188 188 189 1895 919 916 855 1089 108 1510 1669 289 80 1799 260 1354 500 314 456 305 1426 1349 1752 1014 1015 239 243 1818 1081 973 262 976 1361 1807 974 462 1416 1041 496 1758 1806 1740 1358 236 525 1402 465 1093 1771 1975 1626 662 65 794 650 1611 1608 1605 1147 811 642 1593 218 963 1343 1766 1412 638 467 281 458 1105 1319 1285 282 275 283 998 1875 213 1001 471 1377 1008 430 1883 240 1939 1262 1951 1609 123 1531 127 292 299 1376 214 211 911 1385 1737 1599 1981 718 371 577 573 569 932 566 935 1714 981 1523 1507 63 557 200 265 1367 172 1569 247 1689 720 1578 90 1233 159 244 1492 1419 1480 168 1454 1216 1941 269 1505 1298 340 190 1388 1616 1392 1548 1620 301 552 746 542 627 831 675 674 672 1880 777 778 781 804 807 640 817 1844 757 760 377 1136 1879 1179 379 1143 1142 437 1795 1702 445 616 548 1676 653 1068 852 677 1855 689 982 872 515 513 995 1005 1010 1900 1019 1022 485 1810 534 1100 729 693 1077 1071 858 1911 764 970 705 733 703 1058 1857 958 606 607 446 608 609 120 611 612 116 157 326 444 506 436 335 111 1929 329 1915 621 1968 321 131 134 132 521 605 324 433 210 245 581 615 508 1950 509 232 251 502 253 514 497 254 222 212 130 439 527 529 491 488 1901 531 1945 203 164 1964 295 221 217 466 307 1906 156 1744 1380 1812 1382 1814 1006 1386 1000 1363 1362 1036 1039 1373 1374 994 1336 1337 1057 1338 1809 1340 1751 1345 1347 1351 1750 1333 1063 1021 1371 145 1933 586 315 154 1907 590 152 1908 150 593 149 1909 454 202 249 1375 138 1910 451 135 1884 322 851 1204 1017 1748 1370 1026 140 1878 715 342 391 431 87 92 362 71 702 27 23 20 375 394 380 100 628 387 700 1983 8 373 707 4 1866 388 712 713 3 714 16 17 695 89 406 73 104 648 105 355 1972 349 74 412 82 428 630 997 415 649 646 626 643 341 343 96 72 635 1877 91 421 1916 633 1808 645 386 565 1959 546 549 1894 1942 272 192 284 286 1904 187 186 338 1892 1891 185 572 1960 180 177 472 171 470 468 1890 166 538 483 687 1984 43 261 374 398 655 56 411 657 717 1974 410 409 360 660 1979 661 505 665 666 34 623 366 53 670 403 1919 681 683 48 62 1045 1860 1483 1862 1705 745 737 735 1677 1679 1683 1685 731 1686 728 738 1699 1643 1700 1673 748 1672 1655 1646 763 1712 1648 1649 762 1711 1709 1641 1715 1843 1579 774 1851 1636 770 1713 1852 796 1847 1576 1603 1840 1577 1644 1657 1724 826 1583 1584 819 818 1586 1587 1591 1845 1600 1601 1602 1580 1667 767 1661 1551 931 1625 1502 1727 1506 1509 923 1512 917 1725 876 1541 1513 933 857 1570 1838 1574 1552 846 1560 868 1553 862 1565 859 1561 1182 1618 903 915 1532 756 752 1662 751 1663 836 823 840 1828 1528 905 904 937 1499 934 888 845 887 883 1542 880 1549 1550 1520 1519 874 1501 895 1741 1065 1762 972 1425 1432 1328 1327 1496 1138 1148 1221 1145 1772 1235 1140 1422 1236 1249 1135 1789 1240 1790 1130 1242 1125 1220 1150 1152 1153 1181 1768 1199 1484 957 1460 1462 1820 1463 1778 1472 1474 992 1475 950 1478 1824 1413 1196 945 1458 960 961 1445 1397 1401 1403 1742 984 1405 1409 1410 782 1850 1201 980 1165 1263 1293 1289 1117 1116 1794 1250 1251 1255 1796 1256 1257 1797 1098 1097 1310 1286 1288 1488 1469 1613 793 1617 792 789 1849 1178 1696 1283 938 797 952 1069 1203 1172 1218 1168 1773 1157 1156 1155 1248 1791 1311 1301 1297 1161 1294 1307 1804 1306 1299 1086 1088 1302 1119 1073 1303 1080 1085 680 783 1698 51 1604 1607 68 786 785 1638 1628 771 671 765 1627 1163 18 1872 881 136 54 676 723 1697 1537 518 1446 1544 115 114 113 847 805 803 1659 21 1668 744 743 755 1671 701 1681 1692 1660 76 863 151 1400 1495 587 1503 892 891 584 900 533 575 922 1832 1970 1817 1473 1732 512 990 583 125 1826 137 582 953 1466 561 1160 559 1411 1825 1833 943 574 530 208 948 949 230 541 1738 205 537 967 197 1739 1443 564 1489 287 264 252 1066 339 442 1124 1146 1187 294 1222 1064 1052 345 1275 1279 351 1296 1206 1281 1126 1273 1305 1813 424 1090 1783 1368 334 425 393 1769 1102 1346 490 498 1781 1110 493 383 1016 1364 504 1801 258 1012 381 1049 1776 810 814 1874 97 98 822 99 825 102 1568 1720 837 838 361 1811 1562 620 879 875 1521 129 238 1449 842 843 478 1332 288 1183 1943 1082 481 372 276 1031 716 1084 1002 1763 447 1227 1313 1756 400 1805 1037 1524 1096 1437 991 1615 1525 1210 925 769 617 1914 813 1858 191 1564 975 1038 806 725 861 802 536 1127 894 489 979 809 1590 673 732 736 658 1394 66 146 1043 1278 1682 1418 1357 1174 1356 30 1387 237 235 64 1325 1954 223 1355 1761 112 1546 1453 310 1526 1965 1260 1556 1575 175 337 1754 199 1721 1314 1025 0 1092 1264 833 1190 1087 625 618 1563 639 1186 1054 1217 293 1300 402 370 474 316 1969 1047 1214 352 350 1582 886 1971 119 1835 1538 865 1529 117 1527 866 1834 1522 1518 1588 1701 1882 1554 110 1848 799 800 77 78 79 1597 1596 801 118 1056 348 1780 1308 1320 1230 332 1171 1033 1786 382 389 266 1159 1331 277 1316 1237 1042 1321 1225 1802 1930 376 1144 1202 392 416 610 1208 1232 1352 1164 333 1318 353 1267 1282 453 408 1131 1072 1134 364 450 1061 1078 417 367 1195 1194 449 1290 1270 1269 1276 325 1120 1029 303 1076 1228 207 1687 1958 988 1952 231 613 968 1746 510 996 246 1003 170 1366 503 501 495 1899 1018 1391 1433 516 224 959 535 544 1421 1733 1004 1436 201 1441 1444 1447 924 1464 1921 576 1468 893 1461 1452 897 912 1831 1889 1829 580 158 160 913 1730 1731 939 167 147 898 1424 511 532 784 1635 24 692 22 1 1864 1703 1694 1693 730 6 1621 14 10 1680 13 1678 144 7 1665 656 69 1973 1612 1688 780 60 1869 128 233 1415 526 1407 219 1896 517 1398 225 596 969 1716 1957 773 1887 1630 29 31 1710 49 52 1642 50 691 36 853 204 33 279 699 1947 1173 12 280 1040 1956 1920 1390 1396 696 290 369 524 278 1859 1062 499 1438 1359 554 1976 1839 1429 775 296 1827 1059 274 507 1024 1448 1632 978 754 395 1032 482 1946 312 405 336 1893 1493 1486 1515 1764 317 873 1467 604 920 1841 61 84 644 344 914 1558 1557 86 300 571 663 827 163 885 1886 122 622 1723 1487 854 790 126 429 824 850 1774 1075 654 1543 795 1598 142 1846 124 178 1324 1393 1329 1747 1753 1372 242 476 1955 285 1330 921 1243 989 987 1815 486 562 1046 927 1284 1292 1406 523 484 259 1348 1350 257 267 1353 1749 1470 1902 1963 1113 1918 896 1455 1482 165 1268 901 1272 1497 1241 1476 1114 1266 563 579 1498 448 1903 1070 1534 323 1261 1836 1913 890 1259 331 438 603 869 918 1535 1803 1533 594 867 936 1539 556 1924 35 396 668 652 651 1606 753 414 688 690 686 39 59 1623 709 1185 41 704 962 93 1175 1128 834 1567 101 390 384 1229 722 631 944 58 1205 1192 1982 1581 1118 1420 964 1423 1936 306 463 539 1408 1935 309 1439 553 758 215 1141 1050 1309 1736 9 194 1706 1223 1224 698 739 1631 1775 812 844 1925 1675 1198 1573 404 1610 1234 1514 1239 1238 1226 1219 1485 1212 930 1209 1504 1481 1252 1231 1193 1167 1177 1540 1545 1414 1170 1254 1477 1258 1434 1404 1384 1189 1435 356 941 328 926 1440 1516 229 440 435 434 432 422 420 418 401 385 363 358 347 1986 327 318 311 308 304 302 291 273 270 268 256 255 248 234 357 1079 1652 250 1666 1670 951 1674 1622 1074 1053 1091 1154 1151 1559 1132 977 1122 1450 954 1115 452 1104 1103 1101 1614 1121 1094 1106 1111 1595 1571 1095 1265 1566 1428 1007 1369 955 1459 1365 1360 1341 1339 1326 1323 1322 1312 1304 1291 1287 1277 1985 1651 1166 1162 1176 1158 1067 1629 1547 1634 1035 1030 1647 1009 971 999 1274 1378 1726 155 1755 487 1718 1927 1765 1953 1922 1944 993 816 685 664 659 1966 647 634 632 624 614 602 601 600 599 597 585 578 558 550 1938 1912 1777 637 1792 1745 1770 1863 1782 1842 1837 1949 1787 1722 1876 1917 1816 1967 1861 641 1735 1871 1734 1931 1760 1793 1717 1853 1854 1784 1978 1928 1937 1873 543 1881 821 2 477 708 910 459 441 228 227 226 216 196 193 176 174 162 721 161 107 106 94 88 83 75 70 67 57 45 38 37 727 19 480 719 492 494 26 694 464 706 711 908 906 902 860 856 849 841 832 734 479 475 741 830 15 766 808 798 788 828 768 740 759 749 747 787 742 1932 889 1822 947 271 297 598 1743 1395 1379 619 1137 835 520 330 368 399 1295 455 1897 522 567 568 1184 588 870 320 884 1767 1108 1465 848 263 241 1707 25 139 1729 47 1658 182 220 1471 1948 1885 461 1417 1133 1112 1867 1099 750 1060 772 791 1011 1695 983 1637 1690\n",
      "--------------------------------------------------------------------------------------------------------------------------------------------------------------------------------------------------------\n",
      "Column Name:  Age\n",
      "25 26 27 28 29 30 31 32 33 34 35\n",
      "--------------------------------------------------------------------------------------------------------------------------------------------------------------------------------------------------------\n",
      "Column Name:  Employment Type\n",
      "Private Sector/Self Employed Government Sector\n",
      "--------------------------------------------------------------------------------------------------------------------------------------------------------------------------------------------------------\n",
      "Column Name:  GraduateOrNot\n",
      "No Yes\n",
      "--------------------------------------------------------------------------------------------------------------------------------------------------------------------------------------------------------\n",
      "Column Name:  AnnualIncome\n",
      "1700000 1400000 1350000 1150000 750000 1800000 500000 600000 1750000 1500000 450000 1300000 1250000 1450000 550000 350000 850000 1050000 900000 1550000 1000000 800000 700000 1200000 1100000 650000 300000 400000 1650000 950000\n",
      "--------------------------------------------------------------------------------------------------------------------------------------------------------------------------------------------------------\n",
      "Column Name:  FamilyMembers\n",
      "3 5 6 4 8 2 7 9\n",
      "--------------------------------------------------------------------------------------------------------------------------------------------------------------------------------------------------------\n",
      "Column Name:  ChronicDiseases\n",
      "0 1\n",
      "--------------------------------------------------------------------------------------------------------------------------------------------------------------------------------------------------------\n",
      "Column Name:  FrequentFlyer\n",
      "Yes No\n",
      "--------------------------------------------------------------------------------------------------------------------------------------------------------------------------------------------------------\n",
      "Column Name:  EverTravelledAbroad\n",
      "No Yes\n",
      "--------------------------------------------------------------------------------------------------------------------------------------------------------------------------------------------------------\n",
      "Column Name:  TravelInsurance\n",
      "1 0\n",
      "--------------------------------------------------------------------------------------------------------------------------------------------------------------------------------------------------------\n"
     ]
    }
   ],
   "source": [
    "for column in data.columns : \n",
    "    print('Column Name: ',column)\n",
    "    print(*(data[column].unique()))\n",
    "    print(\"--\"*100)"
   ]
  },
  {
   "cell_type": "code",
   "execution_count": 43,
   "id": "06a6fc8f",
   "metadata": {},
   "outputs": [],
   "source": [
    "data.hist(figsize=(20, 20), bins=30, xlabelsize=20, ylabelsize=20);"
   ]
  },
  {
   "cell_type": "code",
   "execution_count": 49,
   "id": "7e102f28",
   "metadata": {
    "scrolled": true
   },
   "outputs": [
    {
     "name": "stdout",
     "output_type": "stream",
     "text": [
      "count    1987.000000\n",
      "mean       29.650226\n",
      "std         2.913308\n",
      "min        25.000000\n",
      "25%        28.000000\n",
      "50%        29.000000\n",
      "75%        32.000000\n",
      "max        35.000000\n",
      "Name: Age, dtype: float64\n"
     ]
    },
    {
     "name": "stderr",
     "output_type": "stream",
     "text": [
      "C:\\Users\\tauqe\\anaconda3\\lib\\site-packages\\seaborn\\distributions.py:2619: FutureWarning: `distplot` is a deprecated function and will be removed in a future version. Please adapt your code to use either `displot` (a figure-level function with similar flexibility) or `histplot` (an axes-level function for histograms).\n",
      "  warnings.warn(msg, FutureWarning)\n"
     ]
    }
   ],
   "source": [
    "data = data.sort_values('Age').reset_index(drop=True)\n",
    "print(data['Age'].describe())\n",
    "plt.figure(figsize=(9, 8))\n",
    "sns.distplot(data['Age'], color='g', bins=100, hist_kws={'alpha': 0.4});"
   ]
  },
  {
   "cell_type": "code",
   "execution_count": 50,
   "id": "30ea258f",
   "metadata": {},
   "outputs": [
    {
     "name": "stdout",
     "output_type": "stream",
     "text": [
      "count    1.987000e+03\n",
      "mean     9.327630e+05\n",
      "std      3.768557e+05\n",
      "min      3.000000e+05\n",
      "25%      6.000000e+05\n",
      "50%      9.000000e+05\n",
      "75%      1.250000e+06\n",
      "max      1.800000e+06\n",
      "Name: AnnualIncome, dtype: float64\n"
     ]
    }
   ],
   "source": [
    "print(data['AnnualIncome'].describe())\n",
    "plt.boxplot(data.AnnualIncome);"
   ]
  },
  {
   "cell_type": "code",
   "execution_count": 48,
   "id": "281e98cf",
   "metadata": {},
   "outputs": [
    {
     "name": "stdout",
     "output_type": "stream",
     "text": [
      "The mean income is  932762.96\n",
      "The median income is  900000.0\n"
     ]
    },
    {
     "name": "stderr",
     "output_type": "stream",
     "text": [
      "C:\\Users\\tauqe\\anaconda3\\lib\\site-packages\\seaborn\\distributions.py:2619: FutureWarning: `distplot` is a deprecated function and will be removed in a future version. Please adapt your code to use either `displot` (a figure-level function with similar flexibility) or `histplot` (an axes-level function for histograms).\n",
      "  warnings.warn(msg, FutureWarning)\n"
     ]
    },
    {
     "data": {
      "text/plain": [
       "Text(0.5, 1.0, 'Distribution curve for Annual Income')"
      ]
     },
     "execution_count": 48,
     "metadata": {},
     "output_type": "execute_result"
    }
   ],
   "source": [
    "plt.figure(figsize=(15,7))\n",
    "sns.distplot(data['AnnualIncome'], color = \"darkgreen\")\n",
    "print(\"The mean income is \",round(data['AnnualIncome'].mean(),2))\n",
    "print(\"The median income is \",data['AnnualIncome'].median())\n",
    "plt.title('Distribution curve for Annual Income')\n",
    "plt.xlabel(\"Annual Income(in Millions)\", size=14)\n",
    "plt.ylabel(\"Density\", size=14)\n",
    "plt.title('Distribution curve for Annual Income', size=20)"
   ]
  },
  {
   "cell_type": "code",
   "execution_count": 51,
   "id": "e9e497de",
   "metadata": {},
   "outputs": [
    {
     "name": "stdout",
     "output_type": "stream",
     "text": [
      "count    1987.000000\n",
      "mean       29.650226\n",
      "std         2.913308\n",
      "min        25.000000\n",
      "25%        28.000000\n",
      "50%        29.000000\n",
      "75%        32.000000\n",
      "max        35.000000\n",
      "Name: Age, dtype: float64\n"
     ]
    },
    {
     "name": "stderr",
     "output_type": "stream",
     "text": [
      "C:\\Users\\tauqe\\anaconda3\\lib\\site-packages\\seaborn\\distributions.py:2619: FutureWarning: `distplot` is a deprecated function and will be removed in a future version. Please adapt your code to use either `displot` (a figure-level function with similar flexibility) or `histplot` (an axes-level function for histograms).\n",
      "  warnings.warn(msg, FutureWarning)\n"
     ]
    }
   ],
   "source": [
    "data = data.sort_values('Age').reset_index(drop=True)\n",
    "print(data['Age'].describe())\n",
    "sns.distplot(data['Age'], color='g', bins=100, hist_kws={'alpha': 0.4});"
   ]
  },
  {
   "cell_type": "code",
   "execution_count": null,
   "id": "169df99b",
   "metadata": {},
   "outputs": [],
   "source": []
  }
 ],
 "metadata": {
  "kernelspec": {
   "display_name": "Python 3 (ipykernel)",
   "language": "python",
   "name": "python3"
  },
  "language_info": {
   "codemirror_mode": {
    "name": "ipython",
    "version": 3
   },
   "file_extension": ".py",
   "mimetype": "text/x-python",
   "name": "python",
   "nbconvert_exporter": "python",
   "pygments_lexer": "ipython3",
   "version": "3.9.13"
  }
 },
 "nbformat": 4,
 "nbformat_minor": 5
}
